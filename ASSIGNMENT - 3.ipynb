{
 "cells": [
  {
   "cell_type": "code",
   "execution_count": 1,
   "id": "49303026",
   "metadata": {},
   "outputs": [],
   "source": [
    "import pandas as pd\n",
    "from datetime import datetime\n",
    "\n",
    "df = pd.read_excel(\"DS Internship - EDA - Data.xlsx\")"
   ]
  },
  {
   "cell_type": "code",
   "execution_count": 5,
   "id": "4f32b2f4",
   "metadata": {},
   "outputs": [
    {
     "name": "stdout",
     "output_type": "stream",
     "text": [
      "Q1a - Total Sales by Year:\n",
      " Year\n",
      "1979    4.214593e+06\n",
      "1980    5.196405e+06\n",
      "1982    4.693736e+06\n",
      "1985    3.069383e+06\n",
      "1987    3.004827e+07\n",
      "1988    1.898396e+07\n",
      "1989    1.149898e+07\n",
      "1990    2.928383e+07\n",
      "1991    3.939468e+07\n",
      "1992    2.048064e+07\n",
      "1993    5.170754e+07\n",
      "1994    1.148818e+08\n",
      "1995    9.881612e+07\n",
      "1996    2.164584e+08\n",
      "1997    1.572953e+08\n",
      "1998    1.619697e+08\n",
      "1999    1.800409e+08\n",
      "2000    1.072731e+08\n",
      "2003    6.590605e+07\n",
      "2004    1.891536e+08\n",
      "2005    3.531670e+08\n",
      "2006    4.073713e+08\n",
      "2007    3.634203e+08\n",
      "2008    5.166959e+08\n",
      "2009    5.363174e+08\n",
      "2010    7.822857e+08\n",
      "2011    8.695491e+08\n",
      "2012    8.242316e+08\n",
      "2013    6.080980e+08\n",
      "2014    6.281739e+08\n",
      "2015    4.414370e+08\n",
      "2016    2.411242e+08\n",
      "2017    6.976724e+07\n",
      "2018    2.520100e+05\n",
      "Name: Sales, dtype: float64 \n",
      "\n"
     ]
    }
   ],
   "source": [
    "# Q1a: Total sales by year\n",
    "df['Year'] = pd.DatetimeIndex(df['Store Open']).year\n",
    "total_sales_by_year = df.groupby('Year')['Sales'].sum()\n",
    "print(\"Q1a - Total Sales by Year:\\n\", total_sales_by_year, \"\\n\")"
   ]
  },
  {
   "cell_type": "code",
   "execution_count": 6,
   "id": "01a29710",
   "metadata": {},
   "outputs": [
    {
     "name": "stdout",
     "output_type": "stream",
     "text": [
      "Q1b - Stores opened in 1991: 4 \n",
      "\n"
     ]
    }
   ],
   "source": [
    "# Q1b: Number of stores opened in 1991\n",
    "stores_1991 = df[df['Year'] == 1991]['Store'].nunique()\n",
    "print(\"Q1b - Stores opened in 1991:\", stores_1991, \"\\n\")"
   ]
  },
  {
   "cell_type": "code",
   "execution_count": 8,
   "id": "e4f31ba6",
   "metadata": {},
   "outputs": [
    {
     "name": "stdout",
     "output_type": "stream",
     "text": [
      "Q1c - Remodelled stores: 270 \n",
      "\n"
     ]
    }
   ],
   "source": [
    "# Q1c: Number of remodelled stores\n",
    "remodelled_count = df[df['Store Modification'].str.contains(\"remodel|relocation|format change\", case=False, na=False)]['Store'].nunique()\n",
    "print(\"Q1c - Remodelled stores:\", remodelled_count, \"\\n\")"
   ]
  },
  {
   "cell_type": "code",
   "execution_count": 10,
   "id": "7b2c800b",
   "metadata": {},
   "outputs": [
    {
     "name": "stdout",
     "output_type": "stream",
     "text": [
      "Q1d - Pearson correlation (Sales vs Total sq ft): 0.13922544019446917 \n",
      "\n"
     ]
    }
   ],
   "source": [
    "# Q1d: Correlation between sales & total sq ft\n",
    "correlation = df['Sales'].corr(df['Total Sq Ft'])\n",
    "print(\"Q1d - Pearson correlation (Sales vs Total sq ft):\", correlation, \"\\n\")"
   ]
  },
  {
   "cell_type": "code",
   "execution_count": 11,
   "id": "81e3affc",
   "metadata": {},
   "outputs": [
    {
     "name": "stdout",
     "output_type": "stream",
     "text": [
      "Q1e - Most profitable super division: GIRLS \n",
      "\n"
     ]
    }
   ],
   "source": [
    "# Q1e: Most profitable super division\n",
    "most_profitable_div = df.groupby('Super Division')['Sales'].sum().idxmax()\n",
    "print(\"Q1e - Most profitable super division:\", most_profitable_div, \"\\n\")"
   ]
  },
  {
   "cell_type": "code",
   "execution_count": 15,
   "id": "52d36192",
   "metadata": {},
   "outputs": [
    {
     "name": "stdout",
     "output_type": "stream",
     "text": [
      "Q1f - Unique stores that have not closed: 830\n"
     ]
    }
   ],
   "source": [
    "# Q1f: Active stores\n",
    "open_stores = df[~df['Store Close'].str.contains(\"Closed\", case=False, na=False)]['Store'].nunique()\n",
    "print(\"Q1f - Unique stores that have not closed:\", open_stores)"
   ]
  },
  {
   "cell_type": "code",
   "execution_count": 20,
   "id": "4f2efa48",
   "metadata": {},
   "outputs": [
    {
     "name": "stdout",
     "output_type": "stream",
     "text": [
      "Q1g - Highest avg sq ft: KIDS \n",
      "\n"
     ]
    }
   ],
   "source": [
    "# Q1g: Super division with highest avg sq ft\n",
    "highest_avg_sqft = df.groupby('Super Division')['Total Sq Ft'].mean().idxmax()\n",
    "print(\"Q1g - Highest avg sq ft:\", highest_avg_sqft, \"\\n\")"
   ]
  },
  {
   "cell_type": "code",
   "execution_count": 32,
   "id": "6c302073",
   "metadata": {},
   "outputs": [
    {
     "name": "stdout",
     "output_type": "stream",
     "text": [
      "Q2a - Top 3 candidate states: ['B10', 'A5', 'B8']\n"
     ]
    }
   ],
   "source": [
    "df_sorted = df.sort_values(by=['Store', 'Year'])\n",
    "latest_status = df_sorted.groupby('Store').tail(1)\n",
    "active_latest = latest_status[~latest_status['Store Close'].str.contains(\"Closed\", case=False, na=False)]\n",
    "top_states = active_latest['State'].value_counts().head(3).index.tolist()\n",
    "print(\"Q2a - Top 3 candidate states:\", top_states)"
   ]
  },
  {
   "cell_type": "code",
   "execution_count": 30,
   "id": "72f5c6e6",
   "metadata": {},
   "outputs": [
    {
     "name": "stdout",
     "output_type": "stream",
     "text": [
      "Q2b - Best time to open store: 1970-01\n"
     ]
    }
   ],
   "source": [
    "df[\"Year\"] = pd.to_datetime(df[\"Year\"], errors=\"coerce\")\n",
    "df[\"Month-Year\"] = df[\"Year\"].dt.to_period('M')\n",
    "best_time = df.groupby(\"Month-Year\")[\"Sales\"].sum().idxmax()\n",
    "print(\"Q2b - Best time to open store:\", best_time)"
   ]
  },
  {
   "cell_type": "code",
   "execution_count": null,
   "id": "573062d1",
   "metadata": {},
   "outputs": [],
   "source": [
    "df['Store Close'] = df['Store Close'].astype(str)\n",
    "closed_all = df[df['Store Close'].str.contains(\"Closed\", case=False, na=False)]\n",
    "closure_by_type_counts = closed_all['Outlet Type'].value_counts()\n",
    "print(\"Closed store counts by outlet type:\\n\", closure_by_type_counts, \"\\n\")\n",
    "print(\"Outlet type with most closures:\", closure_by_type_counts.idxmax())"
   ]
  }
 ],
 "metadata": {
  "kernelspec": {
   "display_name": "Python 3 (ipykernel)",
   "language": "python",
   "name": "python3"
  },
  "language_info": {
   "codemirror_mode": {
    "name": "ipython",
    "version": 3
   },
   "file_extension": ".py",
   "mimetype": "text/x-python",
   "name": "python",
   "nbconvert_exporter": "python",
   "pygments_lexer": "ipython3",
   "version": "3.11.5"
  }
 },
 "nbformat": 4,
 "nbformat_minor": 5
}
